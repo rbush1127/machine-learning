{
 "cells": [
  {
   "cell_type": "markdown",
   "metadata": {},
   "source": [
    "# K-Means Clustering Algorithm"
   ]
  },
  {
   "cell_type": "markdown",
   "metadata": {},
   "source": [
    "The intent of this file is to demonstrate an understanding of the K-Means clustering algorithm, and design a single function which will identify K clusters when provided a dataframe, value for K, threshold, and number of \"starts\".  It is derived from first principles, and relies only on pandas, numpy, and matplotlib to create its clusters."
   ]
  },
  {
   "cell_type": "code",
   "execution_count": 4,
   "metadata": {},
   "outputs": [],
   "source": [
    "import pandas as pd\n",
    "import numpy as np\n",
    "import matplotlib.pyplot as pl\n",
    "import matplotlib.cm as cm"
   ]
  },
  {
   "cell_type": "code",
   "execution_count": 5,
   "metadata": {},
   "outputs": [],
   "source": [
    "a = np.random.randn(50,2)+np.array([-4,1])\n",
    "b = np.random.randn(50,2)+np.array([-1,-4])\n",
    "c = np.random.randn(50,2)+np.array([1,4])\n",
    "d = np.random.randn(50,2)+np.array([-8,10])\n",
    "e = np.random.randn(50,2)+np.array([-8,-10])\n",
    "f = np.random.randn(50,2)+np.array([-8,10])\n",
    "g = np.random.randn(50,2)+np.array([-6,-2])\n",
    "h = np.random.randn(50,2)+np.array([-6,2])\n",
    "i = np.random.randn(50,2)+np.array([-6,-2])\n",
    "t = np.concatenate([a,b,c,d,e,f,g,h,i],axis=0)"
   ]
  },
  {
   "cell_type": "code",
   "execution_count": 6,
   "metadata": {},
   "outputs": [
    {
     "data": {
      "text/plain": [
       "<matplotlib.collections.PathCollection at 0x1d0615f2088>"
      ]
     },
     "execution_count": 6,
     "metadata": {},
     "output_type": "execute_result"
    },
    {
     "data": {
      "image/png": "[encoded data removed]",
      "text/plain": [
       "<Figure size 432x288 with 1 Axes>"
      ]
     },
     "metadata": {
      "needs_background": "light"
     },
     "output_type": "display_data"
    }
   ],
   "source": [
    "pl.scatter(t[:,0],t[:,1])"
   ]
  },
  {
   "cell_type": "code",
   "execution_count": 7,
   "metadata": {},
   "outputs": [],
   "source": [
    "def scaler(df):\n",
    "    #Calculate the mean, minimum, and maximum value for each feature, and scale the values for each feature between 0 and 1\n",
    "    #Ultimately, this will optimize performance on datasets with features which differ significantly in magnitude\n",
    "    mean = df.mean(axis=0)\n",
    "    mins = df.min(axis=0)\n",
    "    maxs = df.max(axis=0)\n",
    "    df = (df-mean)/(maxs-mins)\n",
    "    return(df)"
   ]
  },
  {
   "cell_type": "code",
   "execution_count": 8,
   "metadata": {},
   "outputs": [],
   "source": [
    "def initialize_centers(k,df):\n",
    "    #Randomly generate k centers to initialize the k-means algorithm\n",
    "    n = df.shape[1]\n",
    "    mean = np.mean(df,axis=0)\n",
    "    c = scaler((np.random.rand(k,n)-0.5+mean))\n",
    "    return(c)"
   ]
  },
  {
   "cell_type": "code",
   "execution_count": 9,
   "metadata": {},
   "outputs": [],
   "source": [
    "def center_colors(c):\n",
    "    #Generate unique color codes for k centers being evaluated\n",
    "    colors=[]\n",
    "    color=iter(cm.rainbow(np.linspace(0,1,c.shape[0])))\n",
    "    for i in range(c.shape[0]):\n",
    "        col=next(color)\n",
    "        colors.append(col)\n",
    "    return(colors)"
   ]
  },
  {
   "cell_type": "code",
   "execution_count": 10,
   "metadata": {},
   "outputs": [],
   "source": [
    "def plot_centers(c,colors):\n",
    "    #Plot the centers themselves along with the dataset being investigated\n",
    "    for i in range(c.shape[0]):\n",
    "        pl.plot(c[i,0],c[i,1],c=colors[i],marker='.',linestyle='',markersize=20)"
   ]
  },
  {
   "cell_type": "code",
   "execution_count": 11,
   "metadata": {},
   "outputs": [],
   "source": [
    "def principle_components(df):\n",
    "    #Find the first and second principle components of the dataset to plot the ceters simply\n",
    "    #By always plotting on the first and second principle components, any k-means solution\n",
    "    #can be displayed graphically regardless of feature count\n",
    "    df = scaler(df)\n",
    "    m = df.T\n",
    "    cm = np.cov(m)\n",
    "    val,vec = np.linalg.eig(cm)\n",
    "    proj_1 = df.dot(vec.T[0])\n",
    "    proj_2 = df.dot(vec.T[1])\n",
    "    res = pd.DataFrame(proj_1,columns=['PC1'])\n",
    "    res['PC2'] = proj_2\n",
    "    df = np.array(res)\n",
    "    return(df)"
   ]
  },
  {
   "cell_type": "code",
   "execution_count": 12,
   "metadata": {},
   "outputs": [],
   "source": [
    "def distance(df,ci):\n",
    "    #Calculate the Euclidean distance between two points or vectors\n",
    "    d = df-ci\n",
    "    d = np.sum(np.power(d,2),axis=1)\n",
    "    return(d)"
   ]
  },
  {
   "cell_type": "code",
   "execution_count": 13,
   "metadata": {},
   "outputs": [],
   "source": [
    "def center_table(df, c, k):\n",
    "    #Generate the pandas data structure which stores the Euclidean distance of each point to each of k centers\n",
    "    n = c.shape[1]\n",
    "    df0 = df\n",
    "    df = pd.DataFrame(df)\n",
    "    for i in range(c.shape[0]):\n",
    "        new_df = distance(df0,c[i,:])\n",
    "        new_df = pd.DataFrame(new_df,columns=[f'{i}'])\n",
    "        df = pd.concat([df, new_df],axis=1)\n",
    "    centers = df.iloc[:,n:(k+n)]\n",
    "    center_mins = pd.DataFrame(centers.idxmin(axis=1),columns=['clusters'])\n",
    "    df = pd.concat([df,center_mins],axis=1)\n",
    "    return(df)"
   ]
  },
  {
   "cell_type": "code",
   "execution_count": 14,
   "metadata": {},
   "outputs": [],
   "source": [
    "def new_centers(df, c, k):\n",
    "    #After determining which center is closest to each point, the coordinates for each center are calculated for the next iteration\n",
    "    n = c.shape[1]\n",
    "    holder = np.random.random_sample((k,n))\n",
    "    cmi = n+k\n",
    "    cm = pd.DataFrame(df.iloc[:,cmi])\n",
    "    feat = pd.DataFrame(df.iloc[:,0:n])\n",
    "    df = pd.concat([cm, feat], axis=1)\n",
    "    dfg = df.groupby(['clusters']).agg(np.mean).reset_index()\n",
    "    for i in range(dfg.shape[0]):\n",
    "        holder[int(dfg.iloc[i,0]),0] = dfg.iloc[i,1]\n",
    "        holder[int(dfg.iloc[i,0]),1] = dfg.iloc[i,2]\n",
    "    c = holder\n",
    "    return([df, c])"
   ]
  },
  {
   "cell_type": "code",
   "execution_count": 15,
   "metadata": {},
   "outputs": [],
   "source": [
    "def optimized_centers(df, k, threshold):\n",
    "    #Execute the k-means clustering algorithm until the movement of each center does not exceed the magnitude of a user-specified threshold\n",
    "    e = 1000\n",
    "    c = initialize_centers(k, df)\n",
    "    df = principle_components(df)\n",
    "    df = center_table(df, c, k)\n",
    "    ci = c\n",
    "    i = 1\n",
    "    while e > threshold:\n",
    "        dfi, ci = new_centers(df, ci, k)\n",
    "        e = np.sqrt(np.sum(distance(c,ci)))\n",
    "        c = ci\n",
    "        i = i+1\n",
    "        if i == 2000:\n",
    "            continue\n",
    "    return(df, c)"
   ]
  },
  {
   "cell_type": "code",
   "execution_count": 16,
   "metadata": {},
   "outputs": [],
   "source": [
    "def start(df, c, k):\n",
    "    #Execute the optimized_centers() function, and store the percent of variance explained by the number of clusters as the output\n",
    "    n = c.shape[1]\n",
    "    holder = np.random.random_sample((k,n))\n",
    "\n",
    "    features = df.iloc[:,0:n]\n",
    "    clusters = df.iloc[:,n+k]\n",
    "\n",
    "    dfi = pd.concat([clusters,features],axis=1)\n",
    "    dfi_mean = np.array(np.mean(dfi.iloc[:,1:n+1],axis=0))\n",
    "    dfi_diffs = np.array(features)-dfi_mean\n",
    "    dfi_sq_diffs = np.square(dfi_diffs)\n",
    "    tss = np.sum(dfi_sq_diffs)\n",
    "\n",
    "    dfi_ind_mean = dfi.groupby(['clusters']).agg(np.mean)\n",
    "    dfi_ind_mean = pd.DataFrame(dfi_ind_mean)\n",
    "    for i in range(dfi_ind_mean.shape[0]):\n",
    "        holder[int(dfi_ind_mean.iloc[i,0]),0] = dfi_ind_mean.iloc[i,0]\n",
    "        holder[int(dfi_ind_mean.iloc[i,0]),1] = dfi_ind_mean.iloc[i,1]\n",
    "    dfi_ind_mean = holder\n",
    "\n",
    "    e = []\n",
    "    for i in range(k):\n",
    "        dfj = dfi[dfi['clusters']==f'{i}']\n",
    "        dfj = dfj.iloc[:,1:n+1]\n",
    "        dfj = np.array(dfj)\n",
    "\n",
    "        dfm = dfi_ind_mean[i,:]\n",
    "\n",
    "        dfj_diffs = dfj-dfm\n",
    "        dfj_sq_diffs = np.square(dfj_diffs)\n",
    "        tot_dfj_sq_diff = np.sum(dfj_sq_diffs)\n",
    "        e.append(tot_dfj_sq_diff)\n",
    "    rss = np.sum(e)\n",
    "\n",
    "    var = 1-(rss/tss)\n",
    "    return(var)"
   ]
  },
  {
   "cell_type": "code",
   "execution_count": 17,
   "metadata": {},
   "outputs": [],
   "source": [
    "def kmeans(df, k, threshold, nstart):\n",
    "    #Run start() nstart times, and select the clustering solution which resulted in the maximal variance explained of all iterations\n",
    "    start_var = pd.DataFrame(np.zeros((nstart,1)))\n",
    "    start_output = []\n",
    "    \n",
    "    for i in range(nstart):\n",
    "        dfi, ci = optimized_centers(df, k, threshold)\n",
    "        var = start(dfi, ci, k)\n",
    "        \n",
    "        start_output.append([dfi,ci])\n",
    "        start_var.iloc[i,0] = var\n",
    "    \n",
    "    idx = start_var.idxmax()[0]\n",
    "    df = start_output[idx][0]\n",
    "    c = start_output[idx][1]\n",
    "    \n",
    "    return(df, c)"
   ]
  },
  {
   "cell_type": "code",
   "execution_count": 18,
   "metadata": {},
   "outputs": [],
   "source": [
    "def kmeans_plot(df, c):\n",
    "    #Plot the centers calculated by the k-means algorithm\n",
    "    colors = center_colors(c)\n",
    "    pl.plot(df.iloc[:,0],df.iloc[:,1],marker='.',linestyle='')\n",
    "    plot_centers(c,colors)\n",
    "    pl.show"
   ]
  },
  {
   "cell_type": "code",
   "execution_count": 19,
   "metadata": {},
   "outputs": [],
   "source": [
    "df_f, c_f = kmeans(t, k=5, threshold=0.1, nstart=100)"
   ]
  },
  {
   "cell_type": "code",
   "execution_count": 20,
   "metadata": {},
   "outputs": [
    {
     "data": {
      "image/png": "[encoded data removed]",
      "text/plain": [
       "<Figure size 432x288 with 1 Axes>"
      ]
     },
     "metadata": {
      "needs_background": "light"
     },
     "output_type": "display_data"
    }
   ],
   "source": [
    "kmeans_plot(df_f,c_f)"
   ]
  },
  {
   "cell_type": "code",
   "execution_count": 21,
   "metadata": {},
   "outputs": [
    {
     "data": {
      "text/html": [
       "<div>\n",
       "<style scoped>\n",
       "    .dataframe tbody tr th:only-of-type {\n",
       "        vertical-align: middle;\n",
       "    }\n",
       "\n",
       "    .dataframe tbody tr th {\n",
       "        vertical-align: top;\n",
       "    }\n",
       "\n",
       "    .dataframe thead th {\n",
       "        text-align: right;\n",
       "    }\n",
       "</style>\n",
       "<table border=\"1\" class=\"dataframe\">\n",
       "  <thead>\n",
       "    <tr style=\"text-align: right;\">\n",
       "      <th></th>\n",
       "      <th>0</th>\n",
       "      <th>1</th>\n",
       "      <th>0</th>\n",
       "      <th>1</th>\n",
       "      <th>2</th>\n",
       "      <th>3</th>\n",
       "      <th>4</th>\n",
       "      <th>clusters</th>\n",
       "    </tr>\n",
       "  </thead>\n",
       "  <tbody>\n",
       "    <tr>\n",
       "      <td>0</td>\n",
       "      <td>0.029524</td>\n",
       "      <td>-0.073471</td>\n",
       "      <td>0.368080</td>\n",
       "      <td>0.507516</td>\n",
       "      <td>0.006770</td>\n",
       "      <td>0.171124</td>\n",
       "      <td>0.315852</td>\n",
       "      <td>2</td>\n",
       "    </tr>\n",
       "    <tr>\n",
       "      <td>1</td>\n",
       "      <td>-0.030552</td>\n",
       "      <td>0.028508</td>\n",
       "      <td>0.525125</td>\n",
       "      <td>0.370090</td>\n",
       "      <td>0.003379</td>\n",
       "      <td>0.250810</td>\n",
       "      <td>0.197319</td>\n",
       "      <td>2</td>\n",
       "    </tr>\n",
       "    <tr>\n",
       "      <td>2</td>\n",
       "      <td>-0.011815</td>\n",
       "      <td>-0.012819</td>\n",
       "      <td>0.462505</td>\n",
       "      <td>0.416166</td>\n",
       "      <td>0.001033</td>\n",
       "      <td>0.220118</td>\n",
       "      <td>0.239691</td>\n",
       "      <td>2</td>\n",
       "    </tr>\n",
       "    <tr>\n",
       "      <td>3</td>\n",
       "      <td>-0.034954</td>\n",
       "      <td>0.041593</td>\n",
       "      <td>0.544527</td>\n",
       "      <td>0.357982</td>\n",
       "      <td>0.004993</td>\n",
       "      <td>0.259946</td>\n",
       "      <td>0.185305</td>\n",
       "      <td>2</td>\n",
       "    </tr>\n",
       "    <tr>\n",
       "      <td>4</td>\n",
       "      <td>-0.173988</td>\n",
       "      <td>0.091293</td>\n",
       "      <td>0.743027</td>\n",
       "      <td>0.204781</td>\n",
       "      <td>0.032497</td>\n",
       "      <td>0.432065</td>\n",
       "      <td>0.118654</td>\n",
       "      <td>2</td>\n",
       "    </tr>\n",
       "    <tr>\n",
       "      <td>...</td>\n",
       "      <td>...</td>\n",
       "      <td>...</td>\n",
       "      <td>...</td>\n",
       "      <td>...</td>\n",
       "      <td>...</td>\n",
       "      <td>...</td>\n",
       "      <td>...</td>\n",
       "      <td>...</td>\n",
       "    </tr>\n",
       "    <tr>\n",
       "      <td>445</td>\n",
       "      <td>0.095002</td>\n",
       "      <td>0.030046</td>\n",
       "      <td>0.438839</td>\n",
       "      <td>0.519239</td>\n",
       "      <td>0.021606</td>\n",
       "      <td>0.150313</td>\n",
       "      <td>0.257637</td>\n",
       "      <td>2</td>\n",
       "    </tr>\n",
       "    <tr>\n",
       "      <td>446</td>\n",
       "      <td>-0.009858</td>\n",
       "      <td>0.138598</td>\n",
       "      <td>0.651549</td>\n",
       "      <td>0.340897</td>\n",
       "      <td>0.028946</td>\n",
       "      <td>0.284899</td>\n",
       "      <td>0.128235</td>\n",
       "      <td>2</td>\n",
       "    </tr>\n",
       "    <tr>\n",
       "      <td>447</td>\n",
       "      <td>0.127704</td>\n",
       "      <td>0.036457</td>\n",
       "      <td>0.428752</td>\n",
       "      <td>0.559835</td>\n",
       "      <td>0.032279</td>\n",
       "      <td>0.131601</td>\n",
       "      <td>0.273714</td>\n",
       "      <td>2</td>\n",
       "    </tr>\n",
       "    <tr>\n",
       "      <td>448</td>\n",
       "      <td>0.071017</td>\n",
       "      <td>0.020429</td>\n",
       "      <td>0.441855</td>\n",
       "      <td>0.493783</td>\n",
       "      <td>0.014680</td>\n",
       "      <td>0.163684</td>\n",
       "      <td>0.251294</td>\n",
       "      <td>2</td>\n",
       "    </tr>\n",
       "    <tr>\n",
       "      <td>449</td>\n",
       "      <td>0.196716</td>\n",
       "      <td>0.118582</td>\n",
       "      <td>0.504031</td>\n",
       "      <td>0.620648</td>\n",
       "      <td>0.077621</td>\n",
       "      <td>0.132472</td>\n",
       "      <td>0.267016</td>\n",
       "      <td>2</td>\n",
       "    </tr>\n",
       "  </tbody>\n",
       "</table>\n",
       "<p>450 rows × 8 columns</p>\n",
       "</div>"
      ],
      "text/plain": [
       "            0         1         0         1         2         3         4  \\\n",
       "0    0.029524 -0.073471  0.368080  0.507516  0.006770  0.171124  0.315852   \n",
       "1   -0.030552  0.028508  0.525125  0.370090  0.003379  0.250810  0.197319   \n",
       "2   -0.011815 -0.012819  0.462505  0.416166  0.001033  0.220118  0.239691   \n",
       "3   -0.034954  0.041593  0.544527  0.357982  0.004993  0.259946  0.185305   \n",
       "4   -0.173988  0.091293  0.743027  0.204781  0.032497  0.432065  0.118654   \n",
       "..        ...       ...       ...       ...       ...       ...       ...   \n",
       "445  0.095002  0.030046  0.438839  0.519239  0.021606  0.150313  0.257637   \n",
       "446 -0.009858  0.138598  0.651549  0.340897  0.028946  0.284899  0.128235   \n",
       "447  0.127704  0.036457  0.428752  0.559835  0.032279  0.131601  0.273714   \n",
       "448  0.071017  0.020429  0.441855  0.493783  0.014680  0.163684  0.251294   \n",
       "449  0.196716  0.118582  0.504031  0.620648  0.077621  0.132472  0.267016   \n",
       "\n",
       "    clusters  \n",
       "0          2  \n",
       "1          2  \n",
       "2          2  \n",
       "3          2  \n",
       "4          2  \n",
       "..       ...  \n",
       "445        2  \n",
       "446        2  \n",
       "447        2  \n",
       "448        2  \n",
       "449        2  \n",
       "\n",
       "[450 rows x 8 columns]"
      ]
     },
     "execution_count": 21,
     "metadata": {},
     "output_type": "execute_result"
    }
   ],
   "source": [
    "df_f"
   ]
  }
 ],
 "metadata": {
  "kernelspec": {
   "display_name": "Python 3",
   "language": "python",
   "name": "python3"
  },
  "language_info": {
   "codemirror_mode": {
    "name": "ipython",
    "version": 3
   },
   "file_extension": ".py",
   "mimetype": "text/x-python",
   "name": "python",
   "nbconvert_exporter": "python",
   "pygments_lexer": "ipython3",
   "version": "3.7.4"
  }
 },
 "nbformat": 4,
 "nbformat_minor": 2
}
