{
 "cells": [
  {
   "cell_type": "code",
   "execution_count": 1,
   "metadata": {},
   "outputs": [],
   "source": [
    "import pandas as pd\n",
    "pd.options.mode.chained_assignment = None\n",
    "pd.set_option('display.max_rows', 500)\n",
    "import numpy as np"
   ]
  },
  {
   "cell_type": "code",
   "execution_count": 2,
   "metadata": {},
   "outputs": [],
   "source": [
    "df = pd.read_excel('C:\\\\Users\\\\rbush\\\\Documents\\\\Projects\\\\PGA Finish Projections\\\\PGA Raw Data - Tournament Level_dev.xlsx', \n",
    "                   sheet_name = 'PGA Raw Data')\n",
    "\n",
    "df = df.sort_values(by = ['player', 'days_from_today'])\n",
    "\n",
    "df.columns = (df.columns.str.strip().str.lower()\n",
    "              .str.replace(' ', '_')\n",
    "              .str.replace('(', '')\n",
    "              .str.replace(')', ''))"
   ]
  },
  {
   "cell_type": "code",
   "execution_count": 3,
   "metadata": {},
   "outputs": [],
   "source": [
    "#df.head()\n",
    "#df.dtypes"
   ]
  },
  {
   "cell_type": "code",
   "execution_count": 4,
   "metadata": {},
   "outputs": [],
   "source": [
    "df['mc'] = df['place'].map(lambda x: 1 if x == '-' else 0)\n",
    "df['days_since_last'] = df['days_from_today'].shift(-1)-df['days_from_today']"
   ]
  },
  {
   "cell_type": "code",
   "execution_count": 5,
   "metadata": {},
   "outputs": [],
   "source": [
    "fields = ['player', 'player_id', 'tournament_id', 'tournament_name', 'course','season', 'days_from_today',\n",
    "            'sg_putt', 'sg_arg', 'sg_app', 'sg_ott', 'sg_t2g', 'sg_total']"
   ]
  },
  {
   "cell_type": "code",
   "execution_count": 6,
   "metadata": {},
   "outputs": [],
   "source": [
    "df = df[fields]"
   ]
  },
  {
   "cell_type": "code",
   "execution_count": 7,
   "metadata": {},
   "outputs": [],
   "source": [
    "features = ['sg_putt', 'sg_arg', 'sg_app', 'sg_ott', 'sg_t2g', 'sg_total']"
   ]
  },
  {
   "cell_type": "code",
   "execution_count": 8,
   "metadata": {},
   "outputs": [],
   "source": [
    "players = df['player'].unique().tolist()"
   ]
  },
  {
   "cell_type": "code",
   "execution_count": 9,
   "metadata": {},
   "outputs": [],
   "source": [
    "def scanning_mean(df, features, players, window):\n",
    "    \"\"\"\n",
    "    The scanning_mean function scans through each row in the dataframe to identify null values, and calculates the local \n",
    "    average value across a specified window size.  The intent of the average is to represent typical SG performance at a \n",
    "    particular point in time where data was not loaded correctly.\n",
    "    \n",
    "    1) Creates a duplicate of the passed dataframe called df_clean.  All updates are made to df_clean, which is ultimately \n",
    "       passed as the output.  df_clean_row is initialized and set equal to 0, and is used to update df_clean.\n",
    "       \n",
    "    2) Takes a slice of the dataframe for each player and defines it as df_slice.  Additionally, calculates the number of rows \n",
    "       in each slice and defines the value as df_slice_rows.  The row count is used to:\n",
    "           - iterate through each row and identify null feature values\n",
    "           - provide an upper-bound on the scanning window to ensure index bounds are not exceeded\n",
    "           \n",
    "    3) Iterates through each row and scans each feature column specified in the function's input.\n",
    "    \n",
    "    4) Once a NaN value is discovered, a window of length [max(0,row-window):min(row+window,rows)] is created for that \n",
    "       feature vector:\n",
    "           - max(0,row-window) ensures that the first row considered is either 0 or a row within the subset (i.e. ensures\n",
    "             that the index never reaches back to a negative value)\n",
    "           - min(row+window,rows) ensures that the last row considered is either a row within the subset or the final row\n",
    "             (i.e. ensures that the index never reaches beyond the maximum row count)\n",
    "       \n",
    "       If the iteration encounters a non-NaN value, it passes the process onto the next iteration.\n",
    "       \n",
    "    5) Once all of the NaN values in df have been cleaned, df_clean is returned as the output.\n",
    "    \"\"\"\n",
    "    \n",
    "    # Initialize the output dataframe df_clean and initilize the row being evaluated for NaN values at 0\n",
    "    df_clean = df\n",
    "    df_clean_row = 0\n",
    "    \n",
    "    for player in players:\n",
    "        \n",
    "        # Create df_slice, a subset of df for the player being evaluated.  The script evaluates a subset for each player, and\n",
    "        # writes the cleaned values back to df_clean\n",
    "        df_slice = df[(df['player'] == player)]\n",
    "        df_slice_rows = df_slice.shape[0]\n",
    "        \n",
    "        for df_slice_row in range(df_slice_rows):\n",
    "            for feature in features:\n",
    "                \n",
    "                # For each row and feature in df_slice, evaluate whether the feature value is NaN.  If so, calculate the local\n",
    "                # feature mean with a scanning window of length -window:window.  If the value is not NaN, the function passes\n",
    "                # to the next row.\n",
    "                if pd.isnull(df_slice[feature].iloc[df_slice_row]):\n",
    "                    \n",
    "                    # Specify the minimum and maximum index value for the scanning window\n",
    "                    window_min = max(0, df_slice_row-window)\n",
    "                    window_max = min(df_slice_row+window+1, df_slice_rows)\n",
    "                    \n",
    "                    # Obtain the feature vector to be evaluated\n",
    "                    feature_slice = df_slice[feature]\n",
    "                    \n",
    "                    # Isolated a portion of the feature vector which is 1) centered on the NaN value, and 2) \n",
    "                    # of the size specified by the scanning window.\n",
    "                    feature_window = feature_slice[window_min:window_max]\n",
    "                    \n",
    "                    # Calculate the average non-null value in the feature_window\n",
    "                    feature_mean = feature_window.mean()\n",
    "                    \n",
    "                    # Update df_clean with the rolling window's average value\n",
    "                    df_clean[feature].iloc[df_clean_row] = feature_mean\n",
    "                    \n",
    "                else:\n",
    "                    pass\n",
    "            \n",
    "            # Update the row being evaluated in the output dataframe df_clean\n",
    "            df_clean_row = df_clean_row + 1\n",
    "    \n",
    "    # Return only the values associated with the players specified in the function input\n",
    "    df_clean = df_clean.loc[df['player'].isin(players)]\n",
    "                \n",
    "    return(df_clean)"
   ]
  },
  {
   "cell_type": "code",
   "execution_count": 10,
   "metadata": {},
   "outputs": [],
   "source": [
    "df_clean = scanning_mean(df = df, features = features, players = players, window = 2)"
   ]
  },
  {
   "cell_type": "code",
   "execution_count": 11,
   "metadata": {},
   "outputs": [],
   "source": [
    "#df_clean.iloc[205:225]"
   ]
  },
  {
   "cell_type": "code",
   "execution_count": 12,
   "metadata": {},
   "outputs": [
    {
     "name": "stdout",
     "output_type": "stream",
     "text": [
      "0.013304677105721011\n"
     ]
    }
   ],
   "source": [
    "null_records = df_clean.loc[(pd.isnull(df_clean['sg_app']))]['player'].count()\n",
    "total_records = df_clean['player'].count()\n",
    "\n",
    "null_ratio = null_records/total_records\n",
    "print(null_ratio)"
   ]
  },
  {
   "cell_type": "code",
   "execution_count": 13,
   "metadata": {},
   "outputs": [],
   "source": [
    "df_clean['nan'] = np.where(pd.isnull(df_clean['sg_app']), 1, 0)"
   ]
  },
  {
   "cell_type": "code",
   "execution_count": 14,
   "metadata": {},
   "outputs": [
    {
     "data": {
      "text/html": [
       "<div>\n",
       "<style scoped>\n",
       "    .dataframe tbody tr th:only-of-type {\n",
       "        vertical-align: middle;\n",
       "    }\n",
       "\n",
       "    .dataframe tbody tr th {\n",
       "        vertical-align: top;\n",
       "    }\n",
       "\n",
       "    .dataframe thead th {\n",
       "        text-align: right;\n",
       "    }\n",
       "</style>\n",
       "<table border=\"1\" class=\"dataframe\">\n",
       "  <thead>\n",
       "    <tr style=\"text-align: right;\">\n",
       "      <th></th>\n",
       "      <th>player</th>\n",
       "      <th>player_id</th>\n",
       "      <th>tournament_id</th>\n",
       "      <th>tournament_name</th>\n",
       "      <th>course</th>\n",
       "      <th>season</th>\n",
       "      <th>days_from_today</th>\n",
       "      <th>sg_putt</th>\n",
       "      <th>sg_arg</th>\n",
       "      <th>sg_app</th>\n",
       "      <th>sg_ott</th>\n",
       "      <th>sg_t2g</th>\n",
       "      <th>sg_total</th>\n",
       "      <th>nan</th>\n",
       "    </tr>\n",
       "  </thead>\n",
       "  <tbody>\n",
       "    <tr>\n",
       "      <th>131</th>\n",
       "      <td>Aaron Wise</td>\n",
       "      <td>10577</td>\n",
       "      <td>2501</td>\n",
       "      <td>U.S. Open</td>\n",
       "      <td>Oakmont - Oakmont, PA</td>\n",
       "      <td>2016</td>\n",
       "      <td>1699</td>\n",
       "      <td>0.00</td>\n",
       "      <td>-0.31</td>\n",
       "      <td>-0.81</td>\n",
       "      <td>0.785</td>\n",
       "      <td>-0.335</td>\n",
       "      <td>-0.335</td>\n",
       "      <td>0</td>\n",
       "    </tr>\n",
       "    <tr>\n",
       "      <th>213</th>\n",
       "      <td>Abel Gallegos</td>\n",
       "      <td>4701571</td>\n",
       "      <td>401219478</td>\n",
       "      <td>Masters Tournament</td>\n",
       "      <td>Augusta National - Augusta, GA</td>\n",
       "      <td>2021</td>\n",
       "      <td>89</td>\n",
       "      <td>NaN</td>\n",
       "      <td>NaN</td>\n",
       "      <td>NaN</td>\n",
       "      <td>NaN</td>\n",
       "      <td>NaN</td>\n",
       "      <td>NaN</td>\n",
       "      <td>1</td>\n",
       "    </tr>\n",
       "    <tr>\n",
       "      <th>310</th>\n",
       "      <td>Abraham Ancer</td>\n",
       "      <td>9261</td>\n",
       "      <td>401243401</td>\n",
       "      <td>The American Express</td>\n",
       "      <td>La Quinta CC - La Quinta, CA</td>\n",
       "      <td>2021</td>\n",
       "      <td>19</td>\n",
       "      <td>-0.03</td>\n",
       "      <td>-0.30</td>\n",
       "      <td>1.18</td>\n",
       "      <td>0.540</td>\n",
       "      <td>1.430</td>\n",
       "      <td>1.390</td>\n",
       "      <td>0</td>\n",
       "    </tr>\n",
       "  </tbody>\n",
       "</table>\n",
       "</div>"
      ],
      "text/plain": [
       "            player  player_id  tournament_id       tournament_name  \\\n",
       "131     Aaron Wise      10577           2501             U.S. Open   \n",
       "213  Abel Gallegos    4701571      401219478    Masters Tournament   \n",
       "310  Abraham Ancer       9261      401243401  The American Express   \n",
       "\n",
       "                             course  season  days_from_today  sg_putt  sg_arg  \\\n",
       "131           Oakmont - Oakmont, PA    2016             1699     0.00   -0.31   \n",
       "213  Augusta National - Augusta, GA    2021               89      NaN     NaN   \n",
       "310    La Quinta CC - La Quinta, CA    2021               19    -0.03   -0.30   \n",
       "\n",
       "     sg_app  sg_ott  sg_t2g  sg_total  nan  \n",
       "131   -0.81   0.785  -0.335    -0.335    0  \n",
       "213     NaN     NaN     NaN       NaN    1  \n",
       "310    1.18   0.540   1.430     1.390    0  "
      ]
     },
     "execution_count": 14,
     "metadata": {},
     "output_type": "execute_result"
    }
   ],
   "source": [
    "df_clean.iloc[212:215,:]"
   ]
  },
  {
   "cell_type": "code",
   "execution_count": null,
   "metadata": {},
   "outputs": [],
   "source": []
  }
 ],
 "metadata": {
  "kernelspec": {
   "display_name": "Python 3",
   "language": "python",
   "name": "python3"
  },
  "language_info": {
   "codemirror_mode": {
    "name": "ipython",
    "version": 3
   },
   "file_extension": ".py",
   "mimetype": "text/x-python",
   "name": "python",
   "nbconvert_exporter": "python",
   "pygments_lexer": "ipython3",
   "version": "3.7.6"
  }
 },
 "nbformat": 4,
 "nbformat_minor": 4
}
